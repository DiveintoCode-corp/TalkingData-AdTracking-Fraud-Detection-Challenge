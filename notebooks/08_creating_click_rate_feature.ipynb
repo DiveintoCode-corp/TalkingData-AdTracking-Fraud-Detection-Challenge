{
 "cells": [
  {
   "cell_type": "markdown",
   "metadata": {},
   "source": [
    "## Introduction"
   ]
  },
  {
   "cell_type": "markdown",
   "metadata": {},
   "source": [
    "The goal of this notebook is to demonstrate how we can use the time features in the Talking Data dataset and in particular the creation of a click_rate feature. \n",
    "\n",
    "The idea behind the click_rate is that it may well be that click farms are a lot faster than humans and therefore high click_rates may be indicative of fraudulent clicks or doanloads.\n",
    "\n",
    "As a reminder : \n",
    " - Please check @advisor_yifan's great [post on kaggle](https://www.kaggle.com/c/talkingdata-adtracking-fraud-detection/discussion/54765)\n",
    " - if I had to choose one public kernel I would use [the first notebook](https://www.kaggle.com/nanomathias/feature-engineering-importance-testing). It is an extensive evaluation of all sorts of features in the context of TalkingData. In my opinion this is must read.\n",
    "\n",
    "At the end of this notebook you will know how to :\n",
    " - convert a date in string format into an easy to use pandas datetime feature\n",
    " - be able to compute the click_rate fofr a given ip and app\n",
    " - hopefully get a better score on the LB with time features\n",
    "\n",
    "What is included in this notebook is really advanced. \n",
    "\n",
    "Please don't be frustrated if you do not fully understand the pandas code, instead ask me questions. You can reach me directly on my slack @advisor_olivier !\n",
    "\n",
    "Have a good read."
   ]
  },
  {
   "cell_type": "code",
   "execution_count": 1,
   "metadata": {},
   "outputs": [],
   "source": [
    "import pandas as pd\n",
    "import numpy as np\n",
    "from sklearn.metrics import roc_auc_score, log_loss\n",
    "from sklearn.linear_model import SGDClassifier\n",
    "import time\n",
    "import re\n",
    "import gc\n",
    "\n",
    "gc.enable()"
   ]
  },
  {
   "cell_type": "markdown",
   "metadata": {},
   "source": [
    "Please change the file_path so that it points to where the train file is on your system  "
   ]
  },
  {
   "cell_type": "code",
   "execution_count": 2,
   "metadata": {},
   "outputs": [],
   "source": [
    "file_path = \"../input/train.csv.zip\""
   ]
  },
  {
   "cell_type": "markdown",
   "metadata": {},
   "source": [
    "Specify data types to limit memory usage"
   ]
  },
  {
   "cell_type": "code",
   "execution_count": 3,
   "metadata": {},
   "outputs": [],
   "source": [
    "dtypes = {\n",
    "        'ip': 'uint32',\n",
    "        'app': 'uint16',\n",
    "        'device': 'uint16',\n",
    "        'os': 'uint16',\n",
    "        'channel': 'uint16',\n",
    "        'is_attributed': 'uint8'\n",
    "    }\n",
    "cols = [f_ for f_ in dtypes.keys()]"
   ]
  },
  {
   "cell_type": "markdown",
   "metadata": {},
   "source": [
    "## Reading talking data first 10 million rows\n",
    "\n",
    "In this section we will read a few rows in the TalkingData training file and show how you can convert and use the date information inside the training file.\n",
    "\n",
    "The time feature in the dataset is called **click_time**"
   ]
  },
  {
   "cell_type": "code",
   "execution_count": 4,
   "metadata": {},
   "outputs": [],
   "source": [
    "# Take only day 6\n",
    "train = pd.read_csv(file_path, nrows=9308568, usecols=['ip', 'app', 'click_time', 'is_attributed'], dtype=dtypes)"
   ]
  },
  {
   "cell_type": "markdown",
   "metadata": {},
   "source": [
    "Let's look at the time format used in the dataset"
   ]
  },
  {
   "cell_type": "code",
   "execution_count": 5,
   "metadata": {},
   "outputs": [
    {
     "data": {
      "text/html": [
       "<div>\n",
       "<style>\n",
       "    .dataframe thead tr:only-child th {\n",
       "        text-align: right;\n",
       "    }\n",
       "\n",
       "    .dataframe thead th {\n",
       "        text-align: left;\n",
       "    }\n",
       "\n",
       "    .dataframe tbody tr th {\n",
       "        vertical-align: top;\n",
       "    }\n",
       "</style>\n",
       "<table border=\"1\" class=\"dataframe\">\n",
       "  <thead>\n",
       "    <tr style=\"text-align: right;\">\n",
       "      <th></th>\n",
       "      <th>ip</th>\n",
       "      <th>app</th>\n",
       "      <th>click_time</th>\n",
       "      <th>is_attributed</th>\n",
       "    </tr>\n",
       "  </thead>\n",
       "  <tbody>\n",
       "    <tr>\n",
       "      <th>0</th>\n",
       "      <td>83230</td>\n",
       "      <td>3</td>\n",
       "      <td>2017-11-06 14:32:21</td>\n",
       "      <td>0</td>\n",
       "    </tr>\n",
       "    <tr>\n",
       "      <th>1</th>\n",
       "      <td>17357</td>\n",
       "      <td>3</td>\n",
       "      <td>2017-11-06 14:33:34</td>\n",
       "      <td>0</td>\n",
       "    </tr>\n",
       "    <tr>\n",
       "      <th>2</th>\n",
       "      <td>35810</td>\n",
       "      <td>3</td>\n",
       "      <td>2017-11-06 14:34:12</td>\n",
       "      <td>0</td>\n",
       "    </tr>\n",
       "    <tr>\n",
       "      <th>3</th>\n",
       "      <td>45745</td>\n",
       "      <td>14</td>\n",
       "      <td>2017-11-06 14:34:52</td>\n",
       "      <td>0</td>\n",
       "    </tr>\n",
       "    <tr>\n",
       "      <th>4</th>\n",
       "      <td>161007</td>\n",
       "      <td>3</td>\n",
       "      <td>2017-11-06 14:35:08</td>\n",
       "      <td>0</td>\n",
       "    </tr>\n",
       "  </tbody>\n",
       "</table>\n",
       "</div>"
      ],
      "text/plain": [
       "       ip  app           click_time  is_attributed\n",
       "0   83230    3  2017-11-06 14:32:21              0\n",
       "1   17357    3  2017-11-06 14:33:34              0\n",
       "2   35810    3  2017-11-06 14:34:12              0\n",
       "3   45745   14  2017-11-06 14:34:52              0\n",
       "4  161007    3  2017-11-06 14:35:08              0"
      ]
     },
     "execution_count": 5,
     "metadata": {},
     "output_type": "execute_result"
    }
   ],
   "source": [
    "train.head(5)"
   ]
  },
  {
   "cell_type": "markdown",
   "metadata": {},
   "source": [
    "Transform date into pd.DateTime object"
   ]
  },
  {
   "cell_type": "code",
   "execution_count": 6,
   "metadata": {},
   "outputs": [
    {
     "data": {
      "text/html": [
       "<div>\n",
       "<style>\n",
       "    .dataframe thead tr:only-child th {\n",
       "        text-align: right;\n",
       "    }\n",
       "\n",
       "    .dataframe thead th {\n",
       "        text-align: left;\n",
       "    }\n",
       "\n",
       "    .dataframe tbody tr th {\n",
       "        vertical-align: top;\n",
       "    }\n",
       "</style>\n",
       "<table border=\"1\" class=\"dataframe\">\n",
       "  <thead>\n",
       "    <tr style=\"text-align: right;\">\n",
       "      <th></th>\n",
       "      <th>ip</th>\n",
       "      <th>app</th>\n",
       "      <th>click_time</th>\n",
       "      <th>is_attributed</th>\n",
       "    </tr>\n",
       "  </thead>\n",
       "  <tbody>\n",
       "    <tr>\n",
       "      <th>0</th>\n",
       "      <td>83230</td>\n",
       "      <td>3</td>\n",
       "      <td>2017-11-06 14:32:21</td>\n",
       "      <td>0</td>\n",
       "    </tr>\n",
       "    <tr>\n",
       "      <th>1</th>\n",
       "      <td>17357</td>\n",
       "      <td>3</td>\n",
       "      <td>2017-11-06 14:33:34</td>\n",
       "      <td>0</td>\n",
       "    </tr>\n",
       "    <tr>\n",
       "      <th>2</th>\n",
       "      <td>35810</td>\n",
       "      <td>3</td>\n",
       "      <td>2017-11-06 14:34:12</td>\n",
       "      <td>0</td>\n",
       "    </tr>\n",
       "    <tr>\n",
       "      <th>3</th>\n",
       "      <td>45745</td>\n",
       "      <td>14</td>\n",
       "      <td>2017-11-06 14:34:52</td>\n",
       "      <td>0</td>\n",
       "    </tr>\n",
       "    <tr>\n",
       "      <th>4</th>\n",
       "      <td>161007</td>\n",
       "      <td>3</td>\n",
       "      <td>2017-11-06 14:35:08</td>\n",
       "      <td>0</td>\n",
       "    </tr>\n",
       "  </tbody>\n",
       "</table>\n",
       "</div>"
      ],
      "text/plain": [
       "       ip  app          click_time  is_attributed\n",
       "0   83230    3 2017-11-06 14:32:21              0\n",
       "1   17357    3 2017-11-06 14:33:34              0\n",
       "2   35810    3 2017-11-06 14:34:12              0\n",
       "3   45745   14 2017-11-06 14:34:52              0\n",
       "4  161007    3 2017-11-06 14:35:08              0"
      ]
     },
     "execution_count": 6,
     "metadata": {},
     "output_type": "execute_result"
    }
   ],
   "source": [
    "train['click_time'] = pd.to_datetime(train['click_time'], format='%Y-%m-%d %H:%M:%S')\n",
    "train.head()"
   ]
  },
  {
   "cell_type": "markdown",
   "metadata": {},
   "source": [
    "## Calculating the overal click_rate for an ip and app for each day"
   ]
  },
  {
   "cell_type": "markdown",
   "metadata": {},
   "source": [
    "To create a click_rate per day for a given **ip**  and **app** \n",
    "address we need to do the following :\n",
    "\n",
    "`click_rate_per_day = (time_of_last_appearance - time_of_first_appearance) / number_of_occurences` \n",
    "\n",
    " Therefore we need to compute \n",
    " - the time an ip and app first occured during the day\n",
    " - the time it last occured during the day\n",
    " - the number of occurences during the day\n",
    " \n",
    "First let's create the `day` feature"
   ]
  },
  {
   "cell_type": "code",
   "execution_count": 7,
   "metadata": {},
   "outputs": [],
   "source": [
    "train['day'] = train['click_time'].dt.day"
   ]
  },
  {
   "cell_type": "markdown",
   "metadata": {},
   "source": [
    "Now we will create a feature to mix `ip`, `app` and `day` this will help make computations for each day separately"
   ]
  },
  {
   "cell_type": "code",
   "execution_count": 8,
   "metadata": {},
   "outputs": [],
   "source": [
    "train['ip_app_day'] = train['ip'].apply(lambda x: str(x)) + '_' \\\n",
    "                      + train['app'].apply(lambda x: str(x)) + '_'\\\n",
    "                      + train['day'].apply(lambda x: str(x))  "
   ]
  },
  {
   "cell_type": "markdown",
   "metadata": {},
   "source": [
    "You may wonder why I use an apply statement with a lambda function to convert `ip` and `day` into strings instead of a simple `.astype(str)`. The answer can be found in the next cells : apply function with lambda function is a lot quicker!"
   ]
  },
  {
   "cell_type": "code",
   "execution_count": 9,
   "metadata": {},
   "outputs": [
    {
     "name": "stdout",
     "output_type": "stream",
     "text": [
      "1 loop, best of 3: 4.06 s per loop\n"
     ]
    }
   ],
   "source": [
    "%%timeit \n",
    "train['ip'].apply(lambda x: str(x))"
   ]
  },
  {
   "cell_type": "code",
   "execution_count": 10,
   "metadata": {},
   "outputs": [
    {
     "name": "stdout",
     "output_type": "stream",
     "text": [
      "1 loop, best of 3: 14 s per loop\n"
     ]
    }
   ],
   "source": [
    "%%timeit \n",
    "train['ip'].astype(str)"
   ]
  },
  {
   "cell_type": "markdown",
   "metadata": {},
   "source": [
    "Finally to compute `first_time`, `last_time` and occurences we can use a groupby statement:"
   ]
  },
  {
   "cell_type": "code",
   "execution_count": 11,
   "metadata": {},
   "outputs": [
    {
     "data": {
      "text/html": [
       "<div>\n",
       "<style>\n",
       "    .dataframe thead tr:only-child th {\n",
       "        text-align: right;\n",
       "    }\n",
       "\n",
       "    .dataframe thead th {\n",
       "        text-align: left;\n",
       "    }\n",
       "\n",
       "    .dataframe tbody tr th {\n",
       "        vertical-align: top;\n",
       "    }\n",
       "</style>\n",
       "<table border=\"1\" class=\"dataframe\">\n",
       "  <thead>\n",
       "    <tr style=\"text-align: right;\">\n",
       "      <th></th>\n",
       "      <th>min</th>\n",
       "      <th>max</th>\n",
       "      <th>count</th>\n",
       "    </tr>\n",
       "    <tr>\n",
       "      <th>ip_app_day</th>\n",
       "      <th></th>\n",
       "      <th></th>\n",
       "      <th></th>\n",
       "    </tr>\n",
       "  </thead>\n",
       "  <tbody>\n",
       "    <tr>\n",
       "      <th>100002_10_6</th>\n",
       "      <td>2017-11-06 16:11:23</td>\n",
       "      <td>2017-11-06 16:11:23</td>\n",
       "      <td>1</td>\n",
       "    </tr>\n",
       "    <tr>\n",
       "      <th>100002_11_6</th>\n",
       "      <td>2017-11-06 16:11:49</td>\n",
       "      <td>2017-11-06 16:11:49</td>\n",
       "      <td>1</td>\n",
       "    </tr>\n",
       "    <tr>\n",
       "      <th>100002_12_6</th>\n",
       "      <td>2017-11-06 16:06:53</td>\n",
       "      <td>2017-11-06 23:39:24</td>\n",
       "      <td>44</td>\n",
       "    </tr>\n",
       "    <tr>\n",
       "      <th>100002_13_6</th>\n",
       "      <td>2017-11-06 22:05:33</td>\n",
       "      <td>2017-11-06 23:25:18</td>\n",
       "      <td>2</td>\n",
       "    </tr>\n",
       "    <tr>\n",
       "      <th>100002_14_6</th>\n",
       "      <td>2017-11-06 16:10:32</td>\n",
       "      <td>2017-11-06 23:39:09</td>\n",
       "      <td>6</td>\n",
       "    </tr>\n",
       "  </tbody>\n",
       "</table>\n",
       "</div>"
      ],
      "text/plain": [
       "                            min                 max  count\n",
       "ip_app_day                                                \n",
       "100002_10_6 2017-11-06 16:11:23 2017-11-06 16:11:23      1\n",
       "100002_11_6 2017-11-06 16:11:49 2017-11-06 16:11:49      1\n",
       "100002_12_6 2017-11-06 16:06:53 2017-11-06 23:39:24     44\n",
       "100002_13_6 2017-11-06 22:05:33 2017-11-06 23:25:18      2\n",
       "100002_14_6 2017-11-06 16:10:32 2017-11-06 23:39:09      6"
      ]
     },
     "execution_count": 11,
     "metadata": {},
     "output_type": "execute_result"
    }
   ],
   "source": [
    "ip_day_stats = train[['ip_app_day', 'click_time']].groupby('ip_app_day').agg(['min', 'max', 'count'])\n",
    "ip_day_stats.columns = ip_day_stats.columns.droplevel(0)\n",
    "ip_day_stats.head()"
   ]
  },
  {
   "cell_type": "markdown",
   "metadata": {},
   "source": [
    "What we just did is calculate for each couple `ip_app_day` the first click time (i.e. the min) the last click time (i.e. the max) and the number of occurences (i.e the count)\n",
    "\n",
    "Now we need to compute the click rate from this"
   ]
  },
  {
   "cell_type": "code",
   "execution_count": 12,
   "metadata": {},
   "outputs": [
    {
     "data": {
      "text/plain": [
       "ip_app_day\n",
       "100002_10_6       0.000000\n",
       "100002_11_6       0.000000\n",
       "100002_12_6     617.068182\n",
       "100002_13_6    2392.500000\n",
       "100002_14_6    4486.166667\n",
       "100002_15_6     631.477273\n",
       "100002_18_6     666.500000\n",
       "100002_1_6     3931.428571\n",
       "100002_21_6    4101.166667\n",
       "100002_22_6       0.000000\n",
       "Name: click_rate_per_ip_app_day, dtype: float64"
      ]
     },
     "execution_count": 12,
     "metadata": {},
     "output_type": "execute_result"
    }
   ],
   "source": [
    "# Concert min and max to integers\n",
    "ip_day_stats['max'] = ip_day_stats['max'].astype(np.int64) // 1e9\n",
    "ip_day_stats['min'] = ip_day_stats['min'].astype(np.int64) // 1e9\n",
    "# Compute the click rate\n",
    "ip_day_stats['click_rate_per_ip_app_day'] = (ip_day_stats['max'] - ip_day_stats['min']) / ip_day_stats['count'] \n",
    "ip_day_stats['click_rate_per_ip_app_day'].head(10)"
   ]
  },
  {
   "cell_type": "markdown",
   "metadata": {},
   "source": [
    "Finally we need to put the calculated rates back into the training set. We will do this using the `.map` statement"
   ]
  },
  {
   "cell_type": "code",
   "execution_count": 13,
   "metadata": {},
   "outputs": [],
   "source": [
    "train['click_rate'] = train['ip_app_day'].map(ip_day_stats['click_rate_per_ip_app_day'])"
   ]
  },
  {
   "cell_type": "markdown",
   "metadata": {},
   "source": [
    "Now let's check if the click_rate over a day makes sense for the dataset"
   ]
  },
  {
   "cell_type": "code",
   "execution_count": 14,
   "metadata": {
    "scrolled": true
   },
   "outputs": [
    {
     "name": "stdout",
     "output_type": "stream",
     "text": [
      "AUC score for click rate over a day : 0.213905\n"
     ]
    }
   ],
   "source": [
    "from sklearn.metrics import roc_auc_score\n",
    "print(\"AUC score for click rate over a day : %.6f\" % roc_auc_score(train['is_attributed'], train['click_rate']))"
   ]
  },
  {
   "cell_type": "markdown",
   "metadata": {},
   "source": [
    "The fact that the AUC score is below 0.5 means there is an inverse relation betwee the `click_rate` and the target. This is expected since the higher the click rate the higher one can think a click farm is making the clicks or downloads. \n",
    "\n",
    "The actual AUC score for this single feature is `1 - 0.213905 = 0.786095`"
   ]
  },
  {
   "cell_type": "code",
   "execution_count": null,
   "metadata": {},
   "outputs": [],
   "source": []
  }
 ],
 "metadata": {
  "kernelspec": {
   "display_name": "Python 3",
   "language": "python",
   "name": "python3"
  },
  "language_info": {
   "codemirror_mode": {
    "name": "ipython",
    "version": 3
   },
   "file_extension": ".py",
   "mimetype": "text/x-python",
   "name": "python",
   "nbconvert_exporter": "python",
   "pygments_lexer": "ipython3",
   "version": "3.6.1"
  }
 },
 "nbformat": 4,
 "nbformat_minor": 2
}
