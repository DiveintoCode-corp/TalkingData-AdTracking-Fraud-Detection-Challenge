{
 "cells": [
  {
   "cell_type": "markdown",
   "metadata": {},
   "source": [
    "## Introduction"
   ]
  },
  {
   "cell_type": "markdown",
   "metadata": {},
   "source": [
    "The goal of this notebook is to demonstrate how we can use the time features in the Talking Data dataset.\n",
    "\n",
    "The notebooks use materials made available in the following public kernels :\n",
    " - https://www.kaggle.com/nanomathias/feature-engineering-importance-testing\n",
    " - https://www.kaggle.com/asydorchuk/nextclick-calculation-without-hashing-trick\n",
    " - https://www.kaggle.com/anttip/talkingdata-wordbatch-fm-ftrl-lb-0-9769\n",
    " \n",
    "If I had to choose one public kernel I would use [the first notebook](https://www.kaggle.com/nanomathias/feature-engineering-importance-testing). It is an extensive evaluation of all sorts of features in the context of TalkingData. In my opinion this is must read.\n",
    "\n",
    "At the end of this notebook you will know how to :\n",
    " - convert a date in string format into an easy to use pandas datetime feature\n",
    " - easily parse date in string format to get information like day, hour, time...\n",
    " - be able to compute the time difference between 2 consecutive clicks originating from the same ip address\n",
    " - hopefully get a better score on the LB with time features\n",
    "\n",
    "What is included in this notebook is really advanced. \n",
    "\n",
    "Please don't be frustrated if you do not fully understand the pandas code, instead ask me questions. You can reach me directly on my slack @advisor_olivier !\n",
    "\n",
    "Have a good read."
   ]
  },
  {
   "cell_type": "code",
   "execution_count": 1,
   "metadata": {},
   "outputs": [],
   "source": [
    "import pandas as pd\n",
    "import numpy as np\n",
    "from sklearn.metrics import roc_auc_score, log_loss\n",
    "from sklearn.linear_model import SGDClassifier\n",
    "import time\n",
    "import re\n",
    "import gc\n",
    "\n",
    "gc.enable()"
   ]
  },
  {
   "cell_type": "markdown",
   "metadata": {},
   "source": [
    "Please change the file_path so that it points to where the train file is on your system  "
   ]
  },
  {
   "cell_type": "code",
   "execution_count": 2,
   "metadata": {},
   "outputs": [],
   "source": [
    "file_path = \"../input/train.csv.zip\""
   ]
  },
  {
   "cell_type": "markdown",
   "metadata": {},
   "source": [
    "Specify data types to limit memory usage"
   ]
  },
  {
   "cell_type": "code",
   "execution_count": 3,
   "metadata": {},
   "outputs": [],
   "source": [
    "dtypes = {\n",
    "        'ip': 'uint32',\n",
    "        'app': 'uint16',\n",
    "        'device': 'uint16',\n",
    "        'os': 'uint16',\n",
    "        'channel': 'uint16',\n",
    "        'is_attributed': 'uint8'\n",
    "    }\n",
    "cols = [f_ for f_ in dtypes.keys()]"
   ]
  },
  {
   "cell_type": "markdown",
   "metadata": {},
   "source": [
    "## Using dates in a pandas dataframe\n",
    "\n",
    "In this section we will read a few rows in the TalkingData training file and show how you can convert and use the date information inside the training file.\n",
    "\n",
    "The time feature in the dataset is called **click_time**"
   ]
  },
  {
   "cell_type": "code",
   "execution_count": 4,
   "metadata": {},
   "outputs": [],
   "source": [
    "train = pd.read_csv(file_path, nrows=1000000, usecols=['ip', 'click_time', 'is_attributed'], dtype=dtypes)"
   ]
  },
  {
   "cell_type": "markdown",
   "metadata": {},
   "source": [
    "Let's look at the time format used in the dataset"
   ]
  },
  {
   "cell_type": "code",
   "execution_count": 5,
   "metadata": {},
   "outputs": [
    {
     "data": {
      "text/html": [
       "<div>\n",
       "<style>\n",
       "    .dataframe thead tr:only-child th {\n",
       "        text-align: right;\n",
       "    }\n",
       "\n",
       "    .dataframe thead th {\n",
       "        text-align: left;\n",
       "    }\n",
       "\n",
       "    .dataframe tbody tr th {\n",
       "        vertical-align: top;\n",
       "    }\n",
       "</style>\n",
       "<table border=\"1\" class=\"dataframe\">\n",
       "  <thead>\n",
       "    <tr style=\"text-align: right;\">\n",
       "      <th></th>\n",
       "      <th>ip</th>\n",
       "      <th>click_time</th>\n",
       "      <th>is_attributed</th>\n",
       "    </tr>\n",
       "  </thead>\n",
       "  <tbody>\n",
       "    <tr>\n",
       "      <th>0</th>\n",
       "      <td>83230</td>\n",
       "      <td>2017-11-06 14:32:21</td>\n",
       "      <td>0</td>\n",
       "    </tr>\n",
       "    <tr>\n",
       "      <th>1</th>\n",
       "      <td>17357</td>\n",
       "      <td>2017-11-06 14:33:34</td>\n",
       "      <td>0</td>\n",
       "    </tr>\n",
       "    <tr>\n",
       "      <th>2</th>\n",
       "      <td>35810</td>\n",
       "      <td>2017-11-06 14:34:12</td>\n",
       "      <td>0</td>\n",
       "    </tr>\n",
       "    <tr>\n",
       "      <th>3</th>\n",
       "      <td>45745</td>\n",
       "      <td>2017-11-06 14:34:52</td>\n",
       "      <td>0</td>\n",
       "    </tr>\n",
       "    <tr>\n",
       "      <th>4</th>\n",
       "      <td>161007</td>\n",
       "      <td>2017-11-06 14:35:08</td>\n",
       "      <td>0</td>\n",
       "    </tr>\n",
       "  </tbody>\n",
       "</table>\n",
       "</div>"
      ],
      "text/plain": [
       "       ip           click_time  is_attributed\n",
       "0   83230  2017-11-06 14:32:21              0\n",
       "1   17357  2017-11-06 14:33:34              0\n",
       "2   35810  2017-11-06 14:34:12              0\n",
       "3   45745  2017-11-06 14:34:52              0\n",
       "4  161007  2017-11-06 14:35:08              0"
      ]
     },
     "execution_count": 5,
     "metadata": {},
     "output_type": "execute_result"
    }
   ],
   "source": [
    "train.head(5)"
   ]
  },
  {
   "cell_type": "markdown",
   "metadata": {},
   "source": [
    "The time is set with Year, month, day and then hour, minute and seconds\n",
    "\n",
    "The way to convert a date into a usable object within pandas uses [pd.to_datetime()](https://pandas.pydata.org/pandas-docs/stable/generated/pandas.to_datetime.html) function"
   ]
  },
  {
   "cell_type": "code",
   "execution_count": 6,
   "metadata": {},
   "outputs": [
    {
     "data": {
      "text/plain": [
       "0   2017-11-06 14:32:21\n",
       "1   2017-11-06 14:33:34\n",
       "2   2017-11-06 14:34:12\n",
       "3   2017-11-06 14:34:52\n",
       "4   2017-11-06 14:35:08\n",
       "Name: click_time, dtype: datetime64[ns]"
      ]
     },
     "execution_count": 6,
     "metadata": {},
     "output_type": "execute_result"
    }
   ],
   "source": [
    "datetime = pd.to_datetime(train['click_time'])\n",
    "datetime.head()"
   ]
  },
  {
   "cell_type": "markdown",
   "metadata": {},
   "source": [
    "In some case you will need to give pandas the exact structure of the datetime field. To do that you would need to use special format characters:\n",
    " - %Y : is the year with 4 digits\n",
    " - %m : is the month in numerical format (1 up to 12)\n",
    " - %d : is the day of the month\n",
    " - %H : is the hour\n",
    " - %M : is the minutes\n",
    " - %S : is the seconds\n",
    " \n",
    " In our cases the next cell shows what the structure of the datetime string is :"
   ]
  },
  {
   "cell_type": "code",
   "execution_count": 7,
   "metadata": {},
   "outputs": [
    {
     "data": {
      "text/plain": [
       "0   2017-11-06 14:32:21\n",
       "1   2017-11-06 14:33:34\n",
       "2   2017-11-06 14:34:12\n",
       "3   2017-11-06 14:34:52\n",
       "4   2017-11-06 14:35:08\n",
       "Name: click_time, dtype: datetime64[ns]"
      ]
     },
     "execution_count": 7,
     "metadata": {},
     "output_type": "execute_result"
    }
   ],
   "source": [
    "datetime = pd.to_datetime(train['click_time'], format='%Y-%m-%d %H:%M:%S')\n",
    "datetime.head()"
   ]
  },
  {
   "cell_type": "markdown",
   "metadata": {},
   "source": [
    "The advantage of using pandas datatime format is that you can add or substract them, which will soon become very handy !\n",
    "\n",
    "The other advantages are that pandas datetime comes with lots of attributes like : day, dayofweek, month, year, dayofyear...\n",
    "\n",
    "To access these attributes you need to use the **.dt** property of pandas datetime objects like so :"
   ]
  },
  {
   "cell_type": "code",
   "execution_count": 8,
   "metadata": {},
   "outputs": [
    {
     "data": {
      "text/html": [
       "<div>\n",
       "<style>\n",
       "    .dataframe thead tr:only-child th {\n",
       "        text-align: right;\n",
       "    }\n",
       "\n",
       "    .dataframe thead th {\n",
       "        text-align: left;\n",
       "    }\n",
       "\n",
       "    .dataframe tbody tr th {\n",
       "        vertical-align: top;\n",
       "    }\n",
       "</style>\n",
       "<table border=\"1\" class=\"dataframe\">\n",
       "  <thead>\n",
       "    <tr style=\"text-align: right;\">\n",
       "      <th></th>\n",
       "      <th>click_time</th>\n",
       "      <th>year</th>\n",
       "      <th>month</th>\n",
       "      <th>day</th>\n",
       "      <th>day_of_week</th>\n",
       "      <th>day_of_year</th>\n",
       "    </tr>\n",
       "  </thead>\n",
       "  <tbody>\n",
       "    <tr>\n",
       "      <th>0</th>\n",
       "      <td>2017-11-06 14:32:21</td>\n",
       "      <td>2017</td>\n",
       "      <td>11</td>\n",
       "      <td>6</td>\n",
       "      <td>0</td>\n",
       "      <td>310</td>\n",
       "    </tr>\n",
       "    <tr>\n",
       "      <th>1</th>\n",
       "      <td>2017-11-06 14:33:34</td>\n",
       "      <td>2017</td>\n",
       "      <td>11</td>\n",
       "      <td>6</td>\n",
       "      <td>0</td>\n",
       "      <td>310</td>\n",
       "    </tr>\n",
       "    <tr>\n",
       "      <th>2</th>\n",
       "      <td>2017-11-06 14:34:12</td>\n",
       "      <td>2017</td>\n",
       "      <td>11</td>\n",
       "      <td>6</td>\n",
       "      <td>0</td>\n",
       "      <td>310</td>\n",
       "    </tr>\n",
       "    <tr>\n",
       "      <th>3</th>\n",
       "      <td>2017-11-06 14:34:52</td>\n",
       "      <td>2017</td>\n",
       "      <td>11</td>\n",
       "      <td>6</td>\n",
       "      <td>0</td>\n",
       "      <td>310</td>\n",
       "    </tr>\n",
       "    <tr>\n",
       "      <th>4</th>\n",
       "      <td>2017-11-06 14:35:08</td>\n",
       "      <td>2017</td>\n",
       "      <td>11</td>\n",
       "      <td>6</td>\n",
       "      <td>0</td>\n",
       "      <td>310</td>\n",
       "    </tr>\n",
       "  </tbody>\n",
       "</table>\n",
       "</div>"
      ],
      "text/plain": [
       "           click_time  year  month  day  day_of_week  day_of_year\n",
       "0 2017-11-06 14:32:21  2017     11    6            0          310\n",
       "1 2017-11-06 14:33:34  2017     11    6            0          310\n",
       "2 2017-11-06 14:34:12  2017     11    6            0          310\n",
       "3 2017-11-06 14:34:52  2017     11    6            0          310\n",
       "4 2017-11-06 14:35:08  2017     11    6            0          310"
      ]
     },
     "execution_count": 8,
     "metadata": {},
     "output_type": "execute_result"
    }
   ],
   "source": [
    "if type(datetime) == pd.Series:\n",
    "    datetime = datetime.to_frame()\n",
    "datetime['year'] = datetime['click_time'].dt.year\n",
    "datetime['month'] = datetime['click_time'].dt.month\n",
    "datetime['day'] = datetime['click_time'].dt.day\n",
    "datetime['day_of_week'] = datetime['click_time'].dt.dayofweek\n",
    "datetime['day_of_year'] = datetime['click_time'].dt.dayofyear\n",
    "datetime.head(5)"
   ]
  },
  {
   "cell_type": "markdown",
   "metadata": {},
   "source": [
    "All datetime related attributes are detailed [here](https://pandas.pydata.org/pandas-docs/stable/api.html#datetimelike-properties) "
   ]
  },
  {
   "cell_type": "markdown",
   "metadata": {},
   "source": [
    "Now if you just need the hour of a click event you may want to use a simple string extraction technique like split or a regex"
   ]
  },
  {
   "cell_type": "code",
   "execution_count": 9,
   "metadata": {},
   "outputs": [
    {
     "name": "stdout",
     "output_type": "stream",
     "text": [
      "1 loop, best of 3: 336 ms per loop\n"
     ]
    }
   ],
   "source": [
    "%%timeit\n",
    "x = pd.to_datetime(train['click_time'])\n",
    "dt_hour = x.dt.hour"
   ]
  },
  {
   "cell_type": "code",
   "execution_count": 10,
   "metadata": {},
   "outputs": [
    {
     "name": "stdout",
     "output_type": "stream",
     "text": [
      "1 loop, best of 3: 1.09 s per loop\n"
     ]
    }
   ],
   "source": [
    "%%timeit\n",
    "split_hour = train['click_time'].apply(lambda x: int(x.split()[1].split(':')[0]))"
   ]
  },
  {
   "cell_type": "code",
   "execution_count": 11,
   "metadata": {},
   "outputs": [
    {
     "name": "stdout",
     "output_type": "stream",
     "text": [
      "1 loop, best of 3: 1.61 s per loop\n"
     ]
    }
   ],
   "source": [
    "%%timeit\n",
    "re_hour = train['click_time'].apply(lambda x: int(re.findall(' (\\d\\d)\\:', x)[0]))"
   ]
  },
  {
   "cell_type": "markdown",
   "metadata": {},
   "source": [
    "As a conclusion we can say that using **pd.to_datetime** is the fastest technique."
   ]
  },
  {
   "cell_type": "markdown",
   "metadata": {},
   "source": [
    "## Feature engineering using click_time\n",
    "\n",
    "Now that we can convert and use datetime object within pandas, let's have a look at what we can do with time in the context of this TalkingData competition.\n",
    "\n",
    "As @avisor_yifan demonstrated in [his post on Kaggle](https://www.kaggle.com/c/talkingdata-adtracking-fraud-detection/discussion/54765), click farms fraudulent clicks are what we are trying to detect.\n",
    "\n",
    "The first thing that comes to mind would be to compute the time between 2 clicks coming from the same **ip** address and surely, I am much slower than a click farm.\n",
    "\n",
    "How can we compute these time difference between 2 clicks ?\n",
    "\n",
    "First you have to know that the samples in the training set and test set are ordered by click_time. So now it becomes a matter of grouping camples per **ip** addresses and compute the time difference between 2 consecutive clicks.\n",
    "\n",
    "First I will demonstrate how you can compute a time difference using the **shift** method of pandas Series "
   ]
  },
  {
   "cell_type": "code",
   "execution_count": 12,
   "metadata": {},
   "outputs": [],
   "source": [
    "train['click_time'] = pd.to_datetime(train['click_time'])"
   ]
  },
  {
   "cell_type": "markdown",
   "metadata": {},
   "source": [
    "Now that **click_time** is a pd.datatime object let's check what shift does"
   ]
  },
  {
   "cell_type": "code",
   "execution_count": 13,
   "metadata": {},
   "outputs": [
    {
     "data": {
      "text/html": [
       "<div>\n",
       "<style>\n",
       "    .dataframe thead tr:only-child th {\n",
       "        text-align: right;\n",
       "    }\n",
       "\n",
       "    .dataframe thead th {\n",
       "        text-align: left;\n",
       "    }\n",
       "\n",
       "    .dataframe tbody tr th {\n",
       "        vertical-align: top;\n",
       "    }\n",
       "</style>\n",
       "<table border=\"1\" class=\"dataframe\">\n",
       "  <thead>\n",
       "    <tr style=\"text-align: right;\">\n",
       "      <th></th>\n",
       "      <th>click_time</th>\n",
       "      <th>click_time</th>\n",
       "    </tr>\n",
       "  </thead>\n",
       "  <tbody>\n",
       "    <tr>\n",
       "      <th>0</th>\n",
       "      <td>2017-11-06 14:32:21</td>\n",
       "      <td>NaT</td>\n",
       "    </tr>\n",
       "    <tr>\n",
       "      <th>1</th>\n",
       "      <td>2017-11-06 14:33:34</td>\n",
       "      <td>2017-11-06 14:32:21</td>\n",
       "    </tr>\n",
       "    <tr>\n",
       "      <th>2</th>\n",
       "      <td>2017-11-06 14:34:12</td>\n",
       "      <td>2017-11-06 14:33:34</td>\n",
       "    </tr>\n",
       "    <tr>\n",
       "      <th>3</th>\n",
       "      <td>2017-11-06 14:34:52</td>\n",
       "      <td>2017-11-06 14:34:12</td>\n",
       "    </tr>\n",
       "    <tr>\n",
       "      <th>4</th>\n",
       "      <td>2017-11-06 14:35:08</td>\n",
       "      <td>2017-11-06 14:34:52</td>\n",
       "    </tr>\n",
       "  </tbody>\n",
       "</table>\n",
       "</div>"
      ],
      "text/plain": [
       "           click_time          click_time\n",
       "0 2017-11-06 14:32:21                 NaT\n",
       "1 2017-11-06 14:33:34 2017-11-06 14:32:21\n",
       "2 2017-11-06 14:34:12 2017-11-06 14:33:34\n",
       "3 2017-11-06 14:34:52 2017-11-06 14:34:12\n",
       "4 2017-11-06 14:35:08 2017-11-06 14:34:52"
      ]
     },
     "execution_count": 13,
     "metadata": {},
     "output_type": "execute_result"
    }
   ],
   "source": [
    "pd.concat([train['click_time'], train['click_time'].shift(1).head()], axis=1).head(5)"
   ]
  },
  {
   "cell_type": "markdown",
   "metadata": {},
   "source": [
    "I used **pd.concat** to display the original clicktime and its shifted version to really understand what **shift** does.\n",
    "\n",
    "**shift(1)** simply delays samples by 1 row so the time that was at row 0 is now at row 1. The **NaT** is just the NaN version for time and means **Not a Time**.\n",
    "\n",
    "Calculating time difference between each row can be done using :"
   ]
  },
  {
   "cell_type": "code",
   "execution_count": 14,
   "metadata": {},
   "outputs": [
    {
     "data": {
      "text/plain": [
       "0        NaT\n",
       "1   00:01:13\n",
       "2   00:00:38\n",
       "3   00:00:40\n",
       "4   00:00:16\n",
       "Name: click_time, dtype: timedelta64[ns]"
      ]
     },
     "execution_count": 14,
     "metadata": {},
     "output_type": "execute_result"
    }
   ],
   "source": [
    "(train['click_time'] - train['click_time'].shift(1)).head()"
   ]
  },
  {
   "cell_type": "markdown",
   "metadata": {},
   "source": [
    "What we see here is the time difference between each rows. The first row displays a NaT since it is the first row and you cannot compute its time difference with a previous value."
   ]
  },
  {
   "cell_type": "markdown",
   "metadata": {},
   "source": [
    "Now you need to understand that we have just done is computing the time difference between one sample in the file and the next sample. \n",
    "\n",
    "However what we want to do is compute the difference between consecutive samples coming from the same **ip** address.\n",
    "\n",
    "This where the **groupby** statement will help us\n",
    "\n",
    "Let's use the groupby statement on the **ip** address :"
   ]
  },
  {
   "cell_type": "code",
   "execution_count": 15,
   "metadata": {},
   "outputs": [
    {
     "data": {
      "text/plain": [
       "<pandas.core.groupby.DataFrameGroupBy object at 0x0000006AC9329FD0>"
      ]
     },
     "execution_count": 15,
     "metadata": {},
     "output_type": "execute_result"
    }
   ],
   "source": [
    "ip_groups = train.groupby('ip')\n",
    "ip_groups"
   ]
  },
  {
   "cell_type": "markdown",
   "metadata": {},
   "source": [
    "This creates a DataFrameGroupBy object. To understand what it is, we will use the **groups** attribute of DataFrameGroupBy object. \n",
    "\n",
    "Since we grouped samples by ip, the **groups** property returns a dictionary whose key is the ip address and would contain the index of each samples in train that correspond to this ip address."
   ]
  },
  {
   "cell_type": "code",
   "execution_count": 16,
   "metadata": {},
   "outputs": [
    {
     "name": "stdout",
     "output_type": "stream",
     "text": [
      "Indexes for ip      9 :  Int64Index([136178, 145734], dtype='int64')\n"
     ]
    }
   ],
   "source": [
    "for ip in ip_groups.groups.keys():\n",
    "    print(\"Indexes for ip %6d : \" % (ip), ip_groups.groups[ip])\n",
    "    break"
   ]
  },
  {
   "cell_type": "markdown",
   "metadata": {},
   "source": [
    "To avoid getting a very long display I just displayed the first group information.\n",
    "\n",
    "This group is for **ip** 9 and contains 2 samples whose index are 136178 and 145734.\n",
    "\n",
    "Let's check this is true that samples 136178 and 145734 have their **ip** address equal to 9 using **.loc** property of pandas DataFrames: "
   ]
  },
  {
   "cell_type": "code",
   "execution_count": 17,
   "metadata": {},
   "outputs": [
    {
     "data": {
      "text/html": [
       "<div>\n",
       "<style>\n",
       "    .dataframe thead tr:only-child th {\n",
       "        text-align: right;\n",
       "    }\n",
       "\n",
       "    .dataframe thead th {\n",
       "        text-align: left;\n",
       "    }\n",
       "\n",
       "    .dataframe tbody tr th {\n",
       "        vertical-align: top;\n",
       "    }\n",
       "</style>\n",
       "<table border=\"1\" class=\"dataframe\">\n",
       "  <thead>\n",
       "    <tr style=\"text-align: right;\">\n",
       "      <th></th>\n",
       "      <th>ip</th>\n",
       "      <th>click_time</th>\n",
       "      <th>is_attributed</th>\n",
       "    </tr>\n",
       "  </thead>\n",
       "  <tbody>\n",
       "    <tr>\n",
       "      <th>136178</th>\n",
       "      <td>9</td>\n",
       "      <td>2017-11-06 16:02:30</td>\n",
       "      <td>0</td>\n",
       "    </tr>\n",
       "    <tr>\n",
       "      <th>145734</th>\n",
       "      <td>9</td>\n",
       "      <td>2017-11-06 16:02:41</td>\n",
       "      <td>0</td>\n",
       "    </tr>\n",
       "  </tbody>\n",
       "</table>\n",
       "</div>"
      ],
      "text/plain": [
       "        ip          click_time  is_attributed\n",
       "136178   9 2017-11-06 16:02:30              0\n",
       "145734   9 2017-11-06 16:02:41              0"
      ]
     },
     "execution_count": 17,
     "metadata": {},
     "output_type": "execute_result"
    }
   ],
   "source": [
    "ip_9_indexes = [136178,145734]\n",
    "train.loc[ip_9_indexes, :]"
   ]
  },
  {
   "cell_type": "markdown",
   "metadata": {},
   "source": [
    "As you can see these samples have **ip** 9 AND the click_time are ordered\n",
    "\n",
    "Let's check a bigger group like ip 27:"
   ]
  },
  {
   "cell_type": "code",
   "execution_count": 18,
   "metadata": {},
   "outputs": [
    {
     "name": "stdout",
     "output_type": "stream",
     "text": [
      "Indexes for ip     27 :  Int64Index([311979, 312579, 312591, 312753, 430663, 430695, 547438, 678126,\n",
      "            703169, 703170, 708679, 709258, 709430, 709546, 709635, 709654,\n",
      "            710660, 761864, 773721, 773909, 774178],\n",
      "           dtype='int64')\n"
     ]
    }
   ],
   "source": [
    "print(\"Indexes for ip %6d : \" % (27), ip_groups.groups[27])"
   ]
  },
  {
   "cell_type": "code",
   "execution_count": 19,
   "metadata": {},
   "outputs": [
    {
     "data": {
      "text/html": [
       "<div>\n",
       "<style>\n",
       "    .dataframe thead tr:only-child th {\n",
       "        text-align: right;\n",
       "    }\n",
       "\n",
       "    .dataframe thead th {\n",
       "        text-align: left;\n",
       "    }\n",
       "\n",
       "    .dataframe tbody tr th {\n",
       "        vertical-align: top;\n",
       "    }\n",
       "</style>\n",
       "<table border=\"1\" class=\"dataframe\">\n",
       "  <thead>\n",
       "    <tr style=\"text-align: right;\">\n",
       "      <th></th>\n",
       "      <th>ip</th>\n",
       "      <th>click_time</th>\n",
       "      <th>is_attributed</th>\n",
       "    </tr>\n",
       "  </thead>\n",
       "  <tbody>\n",
       "    <tr>\n",
       "      <th>311979</th>\n",
       "      <td>27</td>\n",
       "      <td>2017-11-06 16:05:59</td>\n",
       "      <td>0</td>\n",
       "    </tr>\n",
       "    <tr>\n",
       "      <th>312579</th>\n",
       "      <td>27</td>\n",
       "      <td>2017-11-06 16:05:59</td>\n",
       "      <td>0</td>\n",
       "    </tr>\n",
       "    <tr>\n",
       "      <th>312591</th>\n",
       "      <td>27</td>\n",
       "      <td>2017-11-06 16:05:59</td>\n",
       "      <td>0</td>\n",
       "    </tr>\n",
       "    <tr>\n",
       "      <th>312753</th>\n",
       "      <td>27</td>\n",
       "      <td>2017-11-06 16:05:59</td>\n",
       "      <td>0</td>\n",
       "    </tr>\n",
       "    <tr>\n",
       "      <th>430663</th>\n",
       "      <td>27</td>\n",
       "      <td>2017-11-06 16:08:26</td>\n",
       "      <td>0</td>\n",
       "    </tr>\n",
       "    <tr>\n",
       "      <th>430695</th>\n",
       "      <td>27</td>\n",
       "      <td>2017-11-06 16:08:26</td>\n",
       "      <td>0</td>\n",
       "    </tr>\n",
       "    <tr>\n",
       "      <th>547438</th>\n",
       "      <td>27</td>\n",
       "      <td>2017-11-06 16:11:04</td>\n",
       "      <td>0</td>\n",
       "    </tr>\n",
       "    <tr>\n",
       "      <th>678126</th>\n",
       "      <td>27</td>\n",
       "      <td>2017-11-06 16:14:07</td>\n",
       "      <td>0</td>\n",
       "    </tr>\n",
       "    <tr>\n",
       "      <th>703169</th>\n",
       "      <td>27</td>\n",
       "      <td>2017-11-06 16:14:42</td>\n",
       "      <td>0</td>\n",
       "    </tr>\n",
       "    <tr>\n",
       "      <th>703170</th>\n",
       "      <td>27</td>\n",
       "      <td>2017-11-06 16:14:42</td>\n",
       "      <td>0</td>\n",
       "    </tr>\n",
       "    <tr>\n",
       "      <th>708679</th>\n",
       "      <td>27</td>\n",
       "      <td>2017-11-06 16:14:50</td>\n",
       "      <td>0</td>\n",
       "    </tr>\n",
       "    <tr>\n",
       "      <th>709258</th>\n",
       "      <td>27</td>\n",
       "      <td>2017-11-06 16:14:51</td>\n",
       "      <td>0</td>\n",
       "    </tr>\n",
       "    <tr>\n",
       "      <th>709430</th>\n",
       "      <td>27</td>\n",
       "      <td>2017-11-06 16:14:51</td>\n",
       "      <td>0</td>\n",
       "    </tr>\n",
       "    <tr>\n",
       "      <th>709546</th>\n",
       "      <td>27</td>\n",
       "      <td>2017-11-06 16:14:51</td>\n",
       "      <td>0</td>\n",
       "    </tr>\n",
       "    <tr>\n",
       "      <th>709635</th>\n",
       "      <td>27</td>\n",
       "      <td>2017-11-06 16:14:51</td>\n",
       "      <td>0</td>\n",
       "    </tr>\n",
       "    <tr>\n",
       "      <th>709654</th>\n",
       "      <td>27</td>\n",
       "      <td>2017-11-06 16:14:51</td>\n",
       "      <td>0</td>\n",
       "    </tr>\n",
       "    <tr>\n",
       "      <th>710660</th>\n",
       "      <td>27</td>\n",
       "      <td>2017-11-06 16:14:53</td>\n",
       "      <td>0</td>\n",
       "    </tr>\n",
       "    <tr>\n",
       "      <th>761864</th>\n",
       "      <td>27</td>\n",
       "      <td>2017-11-06 16:16:06</td>\n",
       "      <td>0</td>\n",
       "    </tr>\n",
       "    <tr>\n",
       "      <th>773721</th>\n",
       "      <td>27</td>\n",
       "      <td>2017-11-06 16:16:24</td>\n",
       "      <td>0</td>\n",
       "    </tr>\n",
       "    <tr>\n",
       "      <th>773909</th>\n",
       "      <td>27</td>\n",
       "      <td>2017-11-06 16:16:24</td>\n",
       "      <td>0</td>\n",
       "    </tr>\n",
       "    <tr>\n",
       "      <th>774178</th>\n",
       "      <td>27</td>\n",
       "      <td>2017-11-06 16:16:24</td>\n",
       "      <td>0</td>\n",
       "    </tr>\n",
       "  </tbody>\n",
       "</table>\n",
       "</div>"
      ],
      "text/plain": [
       "        ip          click_time  is_attributed\n",
       "311979  27 2017-11-06 16:05:59              0\n",
       "312579  27 2017-11-06 16:05:59              0\n",
       "312591  27 2017-11-06 16:05:59              0\n",
       "312753  27 2017-11-06 16:05:59              0\n",
       "430663  27 2017-11-06 16:08:26              0\n",
       "430695  27 2017-11-06 16:08:26              0\n",
       "547438  27 2017-11-06 16:11:04              0\n",
       "678126  27 2017-11-06 16:14:07              0\n",
       "703169  27 2017-11-06 16:14:42              0\n",
       "703170  27 2017-11-06 16:14:42              0\n",
       "708679  27 2017-11-06 16:14:50              0\n",
       "709258  27 2017-11-06 16:14:51              0\n",
       "709430  27 2017-11-06 16:14:51              0\n",
       "709546  27 2017-11-06 16:14:51              0\n",
       "709635  27 2017-11-06 16:14:51              0\n",
       "709654  27 2017-11-06 16:14:51              0\n",
       "710660  27 2017-11-06 16:14:53              0\n",
       "761864  27 2017-11-06 16:16:06              0\n",
       "773721  27 2017-11-06 16:16:24              0\n",
       "773909  27 2017-11-06 16:16:24              0\n",
       "774178  27 2017-11-06 16:16:24              0"
      ]
     },
     "execution_count": 19,
     "metadata": {},
     "output_type": "execute_result"
    }
   ],
   "source": [
    "ip_27_indexes = [\n",
    "    311979, 312579, 312591, 312753, 430663, 430695, 547438, 678126,\n",
    "    703169, 703170, 708679, 709258, 709430, 709546, 709635, 709654,\n",
    "    710660, 761864, 773721, 773909, 774178\n",
    "]\n",
    "train.loc[ip_27_indexes, :]"
   ]
  },
  {
   "cell_type": "markdown",
   "metadata": {},
   "source": [
    "Again you can see that they all have **ip** 27 and they are ordered by **click_time**\n",
    "\n",
    "Let's look at another group with ip 25 : \n"
   ]
  },
  {
   "cell_type": "code",
   "execution_count": 20,
   "metadata": {},
   "outputs": [
    {
     "name": "stdout",
     "output_type": "stream",
     "text": [
      "Indexes for ip     25 :  Int64Index([301564, 328270, 328282, 371311, 374091, 479925, 480071, 549539,\n",
      "            549571, 652614],\n",
      "           dtype='int64')\n"
     ]
    }
   ],
   "source": [
    "print(\"Indexes for ip %6d : \" % (25), ip_groups.groups[25])"
   ]
  },
  {
   "cell_type": "code",
   "execution_count": 21,
   "metadata": {},
   "outputs": [
    {
     "data": {
      "text/html": [
       "<div>\n",
       "<style>\n",
       "    .dataframe thead tr:only-child th {\n",
       "        text-align: right;\n",
       "    }\n",
       "\n",
       "    .dataframe thead th {\n",
       "        text-align: left;\n",
       "    }\n",
       "\n",
       "    .dataframe tbody tr th {\n",
       "        vertical-align: top;\n",
       "    }\n",
       "</style>\n",
       "<table border=\"1\" class=\"dataframe\">\n",
       "  <thead>\n",
       "    <tr style=\"text-align: right;\">\n",
       "      <th></th>\n",
       "      <th>ip</th>\n",
       "      <th>click_time</th>\n",
       "      <th>is_attributed</th>\n",
       "    </tr>\n",
       "  </thead>\n",
       "  <tbody>\n",
       "    <tr>\n",
       "      <th>301564</th>\n",
       "      <td>25</td>\n",
       "      <td>2017-11-06 16:05:47</td>\n",
       "      <td>0</td>\n",
       "    </tr>\n",
       "    <tr>\n",
       "      <th>328270</th>\n",
       "      <td>25</td>\n",
       "      <td>2017-11-06 16:06:16</td>\n",
       "      <td>0</td>\n",
       "    </tr>\n",
       "    <tr>\n",
       "      <th>328282</th>\n",
       "      <td>25</td>\n",
       "      <td>2017-11-06 16:06:16</td>\n",
       "      <td>0</td>\n",
       "    </tr>\n",
       "    <tr>\n",
       "      <th>371311</th>\n",
       "      <td>25</td>\n",
       "      <td>2017-11-06 16:07:09</td>\n",
       "      <td>0</td>\n",
       "    </tr>\n",
       "    <tr>\n",
       "      <th>374091</th>\n",
       "      <td>25</td>\n",
       "      <td>2017-11-06 16:07:12</td>\n",
       "      <td>0</td>\n",
       "    </tr>\n",
       "    <tr>\n",
       "      <th>479925</th>\n",
       "      <td>25</td>\n",
       "      <td>2017-11-06 16:09:32</td>\n",
       "      <td>0</td>\n",
       "    </tr>\n",
       "    <tr>\n",
       "      <th>480071</th>\n",
       "      <td>25</td>\n",
       "      <td>2017-11-06 16:09:32</td>\n",
       "      <td>0</td>\n",
       "    </tr>\n",
       "    <tr>\n",
       "      <th>549539</th>\n",
       "      <td>25</td>\n",
       "      <td>2017-11-06 16:11:07</td>\n",
       "      <td>0</td>\n",
       "    </tr>\n",
       "    <tr>\n",
       "      <th>549571</th>\n",
       "      <td>25</td>\n",
       "      <td>2017-11-06 16:11:07</td>\n",
       "      <td>0</td>\n",
       "    </tr>\n",
       "    <tr>\n",
       "      <th>652614</th>\n",
       "      <td>25</td>\n",
       "      <td>2017-11-06 16:13:30</td>\n",
       "      <td>0</td>\n",
       "    </tr>\n",
       "  </tbody>\n",
       "</table>\n",
       "</div>"
      ],
      "text/plain": [
       "        ip          click_time  is_attributed\n",
       "301564  25 2017-11-06 16:05:47              0\n",
       "328270  25 2017-11-06 16:06:16              0\n",
       "328282  25 2017-11-06 16:06:16              0\n",
       "371311  25 2017-11-06 16:07:09              0\n",
       "374091  25 2017-11-06 16:07:12              0\n",
       "479925  25 2017-11-06 16:09:32              0\n",
       "480071  25 2017-11-06 16:09:32              0\n",
       "549539  25 2017-11-06 16:11:07              0\n",
       "549571  25 2017-11-06 16:11:07              0\n",
       "652614  25 2017-11-06 16:13:30              0"
      ]
     },
     "execution_count": 21,
     "metadata": {},
     "output_type": "execute_result"
    }
   ],
   "source": [
    "ip_25_indexes = [301564, 328270, 328282, 371311, 374091, 479925, 480071, 549539, 549571, 652614]\n",
    "train.loc[ip_25_indexes, :]"
   ]
  },
  {
   "cell_type": "markdown",
   "metadata": {},
   "source": [
    "So the groupby statement create groups of samples for each unique ip address in the file.\n",
    "\n",
    "If I want to shift the click_time for each ip, I just need to use the shift method on each group like so:\n",
    "\n",
    "(I demonstrate this on ip 25 and 27 to make it easier to understand)"
   ]
  },
  {
   "cell_type": "code",
   "execution_count": 22,
   "metadata": {},
   "outputs": [
    {
     "data": {
      "text/html": [
       "<div>\n",
       "<style>\n",
       "    .dataframe thead tr:only-child th {\n",
       "        text-align: right;\n",
       "    }\n",
       "\n",
       "    .dataframe thead th {\n",
       "        text-align: left;\n",
       "    }\n",
       "\n",
       "    .dataframe tbody tr th {\n",
       "        vertical-align: top;\n",
       "    }\n",
       "</style>\n",
       "<table border=\"1\" class=\"dataframe\">\n",
       "  <thead>\n",
       "    <tr style=\"text-align: right;\">\n",
       "      <th></th>\n",
       "      <th>ip</th>\n",
       "      <th>click_time</th>\n",
       "      <th>is_attributed</th>\n",
       "    </tr>\n",
       "  </thead>\n",
       "  <tbody>\n",
       "    <tr>\n",
       "      <th>301564</th>\n",
       "      <td>25</td>\n",
       "      <td>2017-11-06 16:05:47</td>\n",
       "      <td>0</td>\n",
       "    </tr>\n",
       "    <tr>\n",
       "      <th>311979</th>\n",
       "      <td>27</td>\n",
       "      <td>2017-11-06 16:05:59</td>\n",
       "      <td>0</td>\n",
       "    </tr>\n",
       "    <tr>\n",
       "      <th>312579</th>\n",
       "      <td>27</td>\n",
       "      <td>2017-11-06 16:05:59</td>\n",
       "      <td>0</td>\n",
       "    </tr>\n",
       "    <tr>\n",
       "      <th>312591</th>\n",
       "      <td>27</td>\n",
       "      <td>2017-11-06 16:05:59</td>\n",
       "      <td>0</td>\n",
       "    </tr>\n",
       "    <tr>\n",
       "      <th>312753</th>\n",
       "      <td>27</td>\n",
       "      <td>2017-11-06 16:05:59</td>\n",
       "      <td>0</td>\n",
       "    </tr>\n",
       "    <tr>\n",
       "      <th>328270</th>\n",
       "      <td>25</td>\n",
       "      <td>2017-11-06 16:06:16</td>\n",
       "      <td>0</td>\n",
       "    </tr>\n",
       "    <tr>\n",
       "      <th>328282</th>\n",
       "      <td>25</td>\n",
       "      <td>2017-11-06 16:06:16</td>\n",
       "      <td>0</td>\n",
       "    </tr>\n",
       "    <tr>\n",
       "      <th>371311</th>\n",
       "      <td>25</td>\n",
       "      <td>2017-11-06 16:07:09</td>\n",
       "      <td>0</td>\n",
       "    </tr>\n",
       "  </tbody>\n",
       "</table>\n",
       "</div>"
      ],
      "text/plain": [
       "        ip          click_time  is_attributed\n",
       "301564  25 2017-11-06 16:05:47              0\n",
       "311979  27 2017-11-06 16:05:59              0\n",
       "312579  27 2017-11-06 16:05:59              0\n",
       "312591  27 2017-11-06 16:05:59              0\n",
       "312753  27 2017-11-06 16:05:59              0\n",
       "328270  25 2017-11-06 16:06:16              0\n",
       "328282  25 2017-11-06 16:06:16              0\n",
       "371311  25 2017-11-06 16:07:09              0"
      ]
     },
     "execution_count": 22,
     "metadata": {},
     "output_type": "execute_result"
    }
   ],
   "source": [
    "# First display ip 25 and 27 in the order of the index\n",
    "train.loc[sorted(ip_25_indexes + ip_27_indexes)].head(8)"
   ]
  },
  {
   "cell_type": "markdown",
   "metadata": {},
   "source": [
    "Now if we apply the shift method we obtain:"
   ]
  },
  {
   "cell_type": "code",
   "execution_count": 23,
   "metadata": {},
   "outputs": [
    {
     "data": {
      "text/html": [
       "<div>\n",
       "<style>\n",
       "    .dataframe thead tr:only-child th {\n",
       "        text-align: right;\n",
       "    }\n",
       "\n",
       "    .dataframe thead th {\n",
       "        text-align: left;\n",
       "    }\n",
       "\n",
       "    .dataframe tbody tr th {\n",
       "        vertical-align: top;\n",
       "    }\n",
       "</style>\n",
       "<table border=\"1\" class=\"dataframe\">\n",
       "  <thead>\n",
       "    <tr style=\"text-align: right;\">\n",
       "      <th></th>\n",
       "      <th>click_time</th>\n",
       "      <th>is_attributed</th>\n",
       "    </tr>\n",
       "  </thead>\n",
       "  <tbody>\n",
       "    <tr>\n",
       "      <th>301564</th>\n",
       "      <td>NaT</td>\n",
       "      <td>NaN</td>\n",
       "    </tr>\n",
       "    <tr>\n",
       "      <th>311979</th>\n",
       "      <td>NaT</td>\n",
       "      <td>NaN</td>\n",
       "    </tr>\n",
       "    <tr>\n",
       "      <th>312579</th>\n",
       "      <td>2017-11-06 16:05:59</td>\n",
       "      <td>0.0</td>\n",
       "    </tr>\n",
       "    <tr>\n",
       "      <th>312591</th>\n",
       "      <td>2017-11-06 16:05:59</td>\n",
       "      <td>0.0</td>\n",
       "    </tr>\n",
       "    <tr>\n",
       "      <th>312753</th>\n",
       "      <td>2017-11-06 16:05:59</td>\n",
       "      <td>0.0</td>\n",
       "    </tr>\n",
       "    <tr>\n",
       "      <th>328270</th>\n",
       "      <td>2017-11-06 16:05:47</td>\n",
       "      <td>0.0</td>\n",
       "    </tr>\n",
       "    <tr>\n",
       "      <th>328282</th>\n",
       "      <td>2017-11-06 16:06:16</td>\n",
       "      <td>0.0</td>\n",
       "    </tr>\n",
       "    <tr>\n",
       "      <th>371311</th>\n",
       "      <td>2017-11-06 16:06:16</td>\n",
       "      <td>0.0</td>\n",
       "    </tr>\n",
       "    <tr>\n",
       "      <th>374091</th>\n",
       "      <td>2017-11-06 16:07:09</td>\n",
       "      <td>0.0</td>\n",
       "    </tr>\n",
       "  </tbody>\n",
       "</table>\n",
       "</div>"
      ],
      "text/plain": [
       "                click_time  is_attributed\n",
       "301564                 NaT            NaN\n",
       "311979                 NaT            NaN\n",
       "312579 2017-11-06 16:05:59            0.0\n",
       "312591 2017-11-06 16:05:59            0.0\n",
       "312753 2017-11-06 16:05:59            0.0\n",
       "328270 2017-11-06 16:05:47            0.0\n",
       "328282 2017-11-06 16:06:16            0.0\n",
       "371311 2017-11-06 16:06:16            0.0\n",
       "374091 2017-11-06 16:07:09            0.0"
      ]
     },
     "execution_count": 23,
     "metadata": {},
     "output_type": "execute_result"
    }
   ],
   "source": [
    "train.loc[sorted(ip_25_indexes + ip_27_indexes)].groupby('ip').shift(1).head(9)"
   ]
  },
  {
   "cell_type": "markdown",
   "metadata": {},
   "source": [
    "You can see that the click_time for the 1st occurence of ip 25 and 27 have been replaced by Nat (Not a Time)\n",
    "\n",
    "Then for the second occurence of ip 25 (index 328270), click_time has been replaced by the previous click_time value for ip 25, which was 2017-11-06 16:05:47.\n",
    "\n",
    "What happens is the shift over samples has been performed for each ip individually, which is exactly what we wanted.\n",
    "\n",
    "Now to compute the time difference for each samples coming from the same ip, we do :"
   ]
  },
  {
   "cell_type": "code",
   "execution_count": 24,
   "metadata": {},
   "outputs": [
    {
     "data": {
      "text/plain": [
       "999980   00:00:02\n",
       "999981   00:00:13\n",
       "999982   00:00:02\n",
       "999983   00:00:00\n",
       "999984   00:00:42\n",
       "999985   00:00:08\n",
       "999986   00:00:11\n",
       "999987   00:12:37\n",
       "999988   00:05:18\n",
       "999989   00:00:00\n",
       "999990   00:00:00\n",
       "999991   00:00:05\n",
       "999992   00:00:02\n",
       "999993   00:00:00\n",
       "999994   00:06:39\n",
       "999995   00:00:04\n",
       "999996   00:00:00\n",
       "999997   00:05:43\n",
       "999998   00:01:34\n",
       "999999   00:00:00\n",
       "Name: click_time, dtype: timedelta64[ns]"
      ]
     },
     "execution_count": 24,
     "metadata": {},
     "output_type": "execute_result"
    }
   ],
   "source": [
    "time_difference = train.click_time - train.groupby('ip').shift(1).click_time\n",
    "time_difference.tail(20) # I use tail since the first samples will all show NaT"
   ]
  },
  {
   "cell_type": "markdown",
   "metadata": {},
   "source": [
    "Please take the time to read the notebook carefully. This is really advanced pandas material!\n",
    "\n",
    "Be sure to ask me questions on this for points that are not clear to you."
   ]
  },
  {
   "cell_type": "code",
   "execution_count": null,
   "metadata": {},
   "outputs": [],
   "source": []
  }
 ],
 "metadata": {
  "kernelspec": {
   "display_name": "Python 3",
   "language": "python",
   "name": "python3"
  },
  "language_info": {
   "codemirror_mode": {
    "name": "ipython",
    "version": 3
   },
   "file_extension": ".py",
   "mimetype": "text/x-python",
   "name": "python",
   "nbconvert_exporter": "python",
   "pygments_lexer": "ipython3",
   "version": "3.6.1"
  }
 },
 "nbformat": 4,
 "nbformat_minor": 2
}
